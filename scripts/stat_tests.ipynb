{
 "cells": [
  {
   "cell_type": "code",
   "execution_count": 1,
   "metadata": {},
   "outputs": [],
   "source": [
    "import pandas as pd\n",
    "from df_transform import *\n",
    "from statistical_tests import *"
   ]
  },
  {
   "cell_type": "markdown",
   "metadata": {},
   "source": [
    "### Loading in and cleaning the dataset"
   ]
  },
  {
   "cell_type": "code",
   "execution_count": 10,
   "metadata": {},
   "outputs": [
    {
     "name": "stdout",
     "output_type": "stream",
     "text": [
      "(22, 22)\n",
      "Index(['Question 1', 'Question 2', 'Question 3', 'Question 4', 'Question 5',\n",
      "       'Question 6', 'Question 7', 'Question 8', 'Question 9', 'Question 10',\n",
      "       'Question 11', 'Question 12', 'Question 13', 'Question 14',\n",
      "       'Question 15', 'Question 16', 'Question 17', 'Question 18',\n",
      "       'Question 19', 'Question 20', 'Question 21', 'Question 22'],\n",
      "      dtype='object')\n"
     ]
    },
    {
     "data": {
      "text/html": [
       "<div>\n",
       "<style scoped>\n",
       "    .dataframe tbody tr th:only-of-type {\n",
       "        vertical-align: middle;\n",
       "    }\n",
       "\n",
       "    .dataframe tbody tr th {\n",
       "        vertical-align: top;\n",
       "    }\n",
       "\n",
       "    .dataframe thead th {\n",
       "        text-align: right;\n",
       "    }\n",
       "</style>\n",
       "<table border=\"1\" class=\"dataframe\">\n",
       "  <thead>\n",
       "    <tr style=\"text-align: right;\">\n",
       "      <th></th>\n",
       "      <th>Question 1</th>\n",
       "      <th>Question 2</th>\n",
       "      <th>Question 3</th>\n",
       "      <th>Question 4</th>\n",
       "      <th>Question 5</th>\n",
       "      <th>Question 6</th>\n",
       "      <th>Question 7</th>\n",
       "      <th>Question 8</th>\n",
       "      <th>Question 9</th>\n",
       "      <th>Question 10</th>\n",
       "      <th>...</th>\n",
       "      <th>Question 13</th>\n",
       "      <th>Question 14</th>\n",
       "      <th>Question 15</th>\n",
       "      <th>Question 16</th>\n",
       "      <th>Question 17</th>\n",
       "      <th>Question 18</th>\n",
       "      <th>Question 19</th>\n",
       "      <th>Question 20</th>\n",
       "      <th>Question 21</th>\n",
       "      <th>Question 22</th>\n",
       "    </tr>\n",
       "  </thead>\n",
       "  <tbody>\n",
       "    <tr>\n",
       "      <th>1</th>\n",
       "      <td>20</td>\n",
       "      <td>Economics &amp; Data Science</td>\n",
       "      <td>Safari</td>\n",
       "      <td>2</td>\n",
       "      <td>0</td>\n",
       "      <td>2</td>\n",
       "      <td>4</td>\n",
       "      <td>2</td>\n",
       "      <td>1</td>\n",
       "      <td>1</td>\n",
       "      <td>...</td>\n",
       "      <td>4</td>\n",
       "      <td>Not sure</td>\n",
       "      <td>Yes</td>\n",
       "      <td>Generally shopping/marketplace websites, e.g. ...</td>\n",
       "      <td>No</td>\n",
       "      <td>NaN</td>\n",
       "      <td>0</td>\n",
       "      <td>1</td>\n",
       "      <td>1</td>\n",
       "      <td>1</td>\n",
       "    </tr>\n",
       "    <tr>\n",
       "      <th>2</th>\n",
       "      <td>21</td>\n",
       "      <td>Linguistics</td>\n",
       "      <td>Chrome</td>\n",
       "      <td>2</td>\n",
       "      <td>0</td>\n",
       "      <td>2</td>\n",
       "      <td>4</td>\n",
       "      <td>0</td>\n",
       "      <td>1</td>\n",
       "      <td>0</td>\n",
       "      <td>...</td>\n",
       "      <td>4</td>\n",
       "      <td>No</td>\n",
       "      <td>No</td>\n",
       "      <td>NaN</td>\n",
       "      <td>No</td>\n",
       "      <td>NaN</td>\n",
       "      <td>0</td>\n",
       "      <td>0</td>\n",
       "      <td>0</td>\n",
       "      <td>5</td>\n",
       "    </tr>\n",
       "    <tr>\n",
       "      <th>3</th>\n",
       "      <td>19</td>\n",
       "      <td>Chemistry</td>\n",
       "      <td>Chrome</td>\n",
       "      <td>2</td>\n",
       "      <td>0</td>\n",
       "      <td>1</td>\n",
       "      <td>5</td>\n",
       "      <td>0</td>\n",
       "      <td>1</td>\n",
       "      <td>0</td>\n",
       "      <td>...</td>\n",
       "      <td>2</td>\n",
       "      <td>No</td>\n",
       "      <td>No</td>\n",
       "      <td>NaN</td>\n",
       "      <td>No</td>\n",
       "      <td>NaN</td>\n",
       "      <td>2</td>\n",
       "      <td>0</td>\n",
       "      <td>0</td>\n",
       "      <td>3</td>\n",
       "    </tr>\n",
       "    <tr>\n",
       "      <th>4</th>\n",
       "      <td>34</td>\n",
       "      <td>Biophysics</td>\n",
       "      <td>Chrome</td>\n",
       "      <td>0</td>\n",
       "      <td>2</td>\n",
       "      <td>0</td>\n",
       "      <td>0</td>\n",
       "      <td>2</td>\n",
       "      <td>2</td>\n",
       "      <td>0</td>\n",
       "      <td>...</td>\n",
       "      <td>3</td>\n",
       "      <td>Not sure</td>\n",
       "      <td>I didn't know that was possible</td>\n",
       "      <td>NaN</td>\n",
       "      <td>No</td>\n",
       "      <td>NaN</td>\n",
       "      <td>0</td>\n",
       "      <td>0</td>\n",
       "      <td>0</td>\n",
       "      <td>9</td>\n",
       "    </tr>\n",
       "    <tr>\n",
       "      <th>5</th>\n",
       "      <td>21</td>\n",
       "      <td>Accounting</td>\n",
       "      <td>Chrome</td>\n",
       "      <td>2</td>\n",
       "      <td>0</td>\n",
       "      <td>2</td>\n",
       "      <td>4</td>\n",
       "      <td>1</td>\n",
       "      <td>3</td>\n",
       "      <td>2</td>\n",
       "      <td>...</td>\n",
       "      <td>4</td>\n",
       "      <td>Not sure</td>\n",
       "      <td>I didn't know that was possible</td>\n",
       "      <td>NaN</td>\n",
       "      <td>Yes</td>\n",
       "      <td>I did not the website to have my data</td>\n",
       "      <td>0</td>\n",
       "      <td>1</td>\n",
       "      <td>1</td>\n",
       "      <td>2</td>\n",
       "    </tr>\n",
       "  </tbody>\n",
       "</table>\n",
       "<p>5 rows × 22 columns</p>\n",
       "</div>"
      ],
      "text/plain": [
       "   Question 1                Question 2 Question 3  Question 4  Question 5  \\\n",
       "1          20  Economics & Data Science     Safari           2           0   \n",
       "2          21               Linguistics     Chrome           2           0   \n",
       "3          19                 Chemistry     Chrome           2           0   \n",
       "4          34                Biophysics     Chrome           0           2   \n",
       "5          21                Accounting     Chrome           2           0   \n",
       "\n",
       "   Question 6  Question 7  Question 8  Question 9  Question 10  ...  \\\n",
       "1           2           4           2           1            1  ...   \n",
       "2           2           4           0           1            0  ...   \n",
       "3           1           5           0           1            0  ...   \n",
       "4           0           0           2           2            0  ...   \n",
       "5           2           4           1           3            2  ...   \n",
       "\n",
       "   Question 13 Question 14                      Question 15  \\\n",
       "1            4    Not sure                              Yes   \n",
       "2            4          No                               No   \n",
       "3            2          No                               No   \n",
       "4            3    Not sure  I didn't know that was possible   \n",
       "5            4    Not sure  I didn't know that was possible   \n",
       "\n",
       "                                         Question 16 Question 17  \\\n",
       "1  Generally shopping/marketplace websites, e.g. ...          No   \n",
       "2                                                NaN          No   \n",
       "3                                                NaN          No   \n",
       "4                                                NaN          No   \n",
       "5                                                NaN         Yes   \n",
       "\n",
       "                             Question 18 Question 19 Question 20  Question 21  \\\n",
       "1                                    NaN           0           1            1   \n",
       "2                                    NaN           0           0            0   \n",
       "3                                    NaN           2           0            0   \n",
       "4                                    NaN           0           0            0   \n",
       "5  I did not the website to have my data           0           1            1   \n",
       "\n",
       "   Question 22  \n",
       "1            1  \n",
       "2            5  \n",
       "3            3  \n",
       "4            9  \n",
       "5            2  \n",
       "\n",
       "[5 rows x 22 columns]"
      ]
     },
     "execution_count": 10,
     "metadata": {},
     "output_type": "execute_result"
    }
   ],
   "source": [
    "survey = pd.read_csv(\"../data/cookie_survey_responses.csv\")\n",
    "survey.drop([c for c in survey.columns[:2]], axis=1, inplace=True)\n",
    "new_df, question_map = rename_columns(survey)\n",
    "new_df = new_df.drop(0)\n",
    "new_df[\"Question 1\"] = new_df[\"Question 1\"].astype(int)\n",
    "new_df[\"Question 13\"] = new_df[\"Question 13\"].astype(int)\n",
    "answer_encs = encode_answers(new_df)\n",
    "N = len(new_df)  # number of observations\n",
    "print(new_df.shape)\n",
    "print(new_df.columns)\n",
    "new_df.head(5)"
   ]
  },
  {
   "cell_type": "markdown",
   "metadata": {},
   "source": [
    "Adding a expertise categorization column (STEM or Non STEM)"
   ]
  },
  {
   "cell_type": "code",
   "execution_count": 11,
   "metadata": {},
   "outputs": [],
   "source": [
    "# 1 means STEM, 0 means non-stem. Obtained via manual observation\n",
    "stem_cat = pd.Series([1, 0, 1, 1, 1, 0, 1, 1, 1, 1, 1, 1, 1, 1, 1, 1, 0, 1, 1, 1, 1, 0])\n",
    "# 1 means directly related to computers/data, 0 means not computer/data related\n",
    "comp_cat = pd.Series([1, 0, 0, 0, 0, 0, 1, 1, 1, 1, 0, 1, 0, 0, 0, 0, 0, 1, 0, 1, 0, 0])\n",
    "new_df[\"stem\"] = stem_cat\n",
    "new_df[\"computers\"] = comp_cat"
   ]
  },
  {
   "cell_type": "markdown",
   "metadata": {},
   "source": [
    "### Run Statistical Tests"
   ]
  },
  {
   "cell_type": "markdown",
   "metadata": {},
   "source": [
    "Compare number of adults that claim a comprehensive understanding of cookies in our study (22 observations) to a Statista survey of adults (1100 observations). <br/> \n",
    "Corresponds to Question 5: <br/> \n",
    "\n",
    "Do you understand what a cookie does and what data you give away when you accept cookies?\n",
    "{0: 'I understand the basics',\n",
    " 1: 'No, not at all',\n",
    " 2: 'Not really',\n",
    " 3: 'Yes, fully'}"
   ]
  },
  {
   "cell_type": "code",
   "execution_count": 47,
   "metadata": {},
   "outputs": [
    {
     "name": "stdout",
     "output_type": "stream",
     "text": [
      "Comprehensive Knowledge: (-1.0176896912577567, 0.3088254478393895, 'fail to reject')\n",
      "Partial Knowledge: (-0.32939162299787755, 0.7418596987241401, 'fail to reject')\n",
      "No Knowledge: (1.3398507379555382, 0.18029387638173944, 'fail to reject')\n"
     ]
    }
   ],
   "source": [
    "# those who have comprehensive understanding\n",
    "p_exp = len(new_df[new_df[\"Question 5\"] == 3]) / len(new_df)  # 4/22\n",
    "p_comp = .28  # see cookieeyes.com link in cookie_awareness.md\n",
    "print(\"Comprehensive Knowledge:\", two_prop_z_test(p_exp, p_comp, N, 1100))\n",
    "# partial knowledge\n",
    "p_exp = len(new_df[new_df[\"Question 5\"] == 0]) / len(new_df)\n",
    "p_comp = .49  # see cookieeyes.com link in cookie_awareness.md\n",
    "print(\"Partial Knowledge:\", two_prop_z_test(p_exp, p_comp, N, 1100))\n",
    "# no knowledge\n",
    "p_exp = len(new_df.loc[(new_df[\"Question 5\"] == 1) | (new_df[\"Question 5\"] == 2)]) / len(new_df)\n",
    "p_comp = .24  # see cookieeyes.com link in cookie_awareness.md\n",
    "print(\"No Knowledge:\", two_prop_z_test(p_exp, p_comp, N, 1100))"
   ]
  },
  {
   "cell_type": "markdown",
   "metadata": {},
   "source": [
    "Next, we check to see if there's any significance in the proportions of students that blindly accept cookies. We compare to the allaboutcookies study of 1000 observations of US adults which found that 38% of adults do so. We are interested in option \"0\" for Question 11: <br/> \n",
    "\n",
    "When you visit a website and see a cookie consent banner, what do you usually do?\n",
    "{0: 'Accept all cookies without reading', 1: 'Decline non-essential cookies', 2: 'Leave the website'}\n",
    "<br/> \n",
    "\n",
    "Then we isolate the Gen Z respondents by age (<= 28) and compare the proportion that blindly accept all cookies. In the allaboutcookies article, this number is .47."
   ]
  },
  {
   "cell_type": "code",
   "execution_count": 48,
   "metadata": {},
   "outputs": [
    {
     "name": "stdout",
     "output_type": "stream",
     "text": [
      "Whole Sample: (-0.15644299315234023, 0.8756838507100282, 'fail to reject')\n",
      "Gen Z Only: (-1.3111114469863319, 0.18982011394345655, 'fail to reject')\n"
     ]
    }
   ],
   "source": [
    "# blindly accept whole sample\n",
    "p_exp = len(new_df.loc[new_df[\"Question 11\"] == 0]) / len(new_df)\n",
    "p_comp = .38  # see allaboutcookies.org link in cookie_awareness.md\n",
    "print(\"Whole Sample:\", two_prop_z_test(p_exp, p_comp, N, 1000))\n",
    "# blindly accept for gen Z\n",
    "p_exp = len(new_df.loc[(new_df[\"Question 1\"] <= 28) & (new_df[\"Question 11\"] == 0)]) / len(new_df)\n",
    "n_exp = sum(new_df[\"Question 1\"] <= 28)\n",
    "p_comp = .47  # see allaboutcookies.org link in cookie_awareness.md\n",
    "print(\"Gen Z Only:\", two_prop_z_test(p_exp, p_comp, n_exp, 250))"
   ]
  },
  {
   "cell_type": "markdown",
   "metadata": {},
   "source": [
    "### Computer vs Non-Computer Expertise Statistical Tests"
   ]
  },
  {
   "cell_type": "code",
   "execution_count": 48,
   "metadata": {},
   "outputs": [],
   "source": [
    "n_comp = len(new_df.loc[new_df[\"computers\"] == 1])\n",
    "n_non_comp = len(new_df.loc[new_df[\"computers\"] == 0])"
   ]
  },
  {
   "cell_type": "markdown",
   "metadata": {},
   "source": [
    "Compare the proportions that selected \"Yes, fully\" or \"I understand the basics\". <br/> \n",
    "\n",
    "Do you understand what a cookie does and what data you give away when you accept cookies?\n",
    "{0: 'I understand the basics', 1: 'No, not at all', 2: 'Not really', 3: 'Yes, fully'}"
   ]
  },
  {
   "cell_type": "code",
   "execution_count": 50,
   "metadata": {},
   "outputs": [
    {
     "name": "stdout",
     "output_type": "stream",
     "text": [
      "Computer majors understand cookies: (-1.636634176769943, 0.10170693003109332, 'fail to reject')\n"
     ]
    }
   ],
   "source": [
    "p_comp = len(new_df.loc[(new_df[\"computers\"] == 1) & ((new_df[\"Question 5\"] == 0) | (new_df[\"Question 5\"] == 3))]) / n_comp\n",
    "p_non_comp = len(new_df.loc[(new_df[\"computers\"] == 0) & ((new_df[\"Question 5\"] == 0) | (new_df[\"Question 5\"] == 3))]) / n_non_comp\n",
    "print(\"Computer majors understand cookies:\", two_prop_z_test(p_comp, p_non_comp, n_comp, n_non_comp))"
   ]
  },
  {
   "cell_type": "markdown",
   "metadata": {},
   "source": [
    "Compare the proportions that selected \"Rarely\" or \"Never\" accept all cookies. <br/> \n",
    "\n",
    "How often do you accept all cookies without changing any settings?"
   ]
  },
  {
   "cell_type": "code",
   "execution_count": 51,
   "metadata": {},
   "outputs": [
    {
     "name": "stdout",
     "output_type": "stream",
     "text": [
      "Computer majors accept cookies: (1.3228756555322951, 0.18587673236587587, 'fail to reject')\n"
     ]
    }
   ],
   "source": [
    "p_comp = len(new_df.loc[(new_df[\"computers\"] == 1) & ((new_df[\"Question 12\"] == \"Rarely\") | (new_df[\"Question 12\"] == \"Never\"))]) / n_comp\n",
    "p_non_comp = len(new_df.loc[(new_df[\"computers\"] == 0) & ((new_df[\"Question 12\"] == \"Rarely\") | (new_df[\"Question 5\"] == \"Never\"))]) / n_non_comp\n",
    "print(\"Computer majors accept cookies:\", two_prop_z_test(p_comp, p_non_comp, n_comp, n_non_comp))"
   ]
  },
  {
   "cell_type": "markdown",
   "metadata": {},
   "source": [
    "Compare the means for level of ease to reject cookies as well. <br/> \n",
    "\n",
    "How easy, on a scale of 1–5, do you find it to reject cookies that you don't want used?"
   ]
  },
  {
   "cell_type": "code",
   "execution_count": 52,
   "metadata": {},
   "outputs": [
    {
     "name": "stdout",
     "output_type": "stream",
     "text": [
      "Level of Ease to reject cookies: (2.3569540848602757, 0.03516316424650312, 'reject')\n"
     ]
    }
   ],
   "source": [
    "mu_comp = new_df.loc[new_df[\"computers\"] == 1][\"Question 13\"].mean()\n",
    "std_comp = new_df.loc[new_df[\"computers\"] == 1][\"Question 13\"].std()\n",
    "mu_non_comp = new_df.loc[new_df[\"computers\"] == 0][\"Question 13\"].mean()\n",
    "std_non_comp = new_df.loc[new_df[\"computers\"] == 0][\"Question 13\"].std()\n",
    "print(\"Level of Ease to reject cookies:\", two_sample_t_test(mu_comp, mu_non_comp, std_comp, std_non_comp, n_comp, n_non_comp))"
   ]
  },
  {
   "cell_type": "markdown",
   "metadata": {},
   "source": [
    "Compare the same means but on the basis of browser."
   ]
  },
  {
   "cell_type": "markdown",
   "metadata": {},
   "source": [
    "Brave vs Others"
   ]
  },
  {
   "cell_type": "code",
   "execution_count": 12,
   "metadata": {},
   "outputs": [
    {
     "name": "stdout",
     "output_type": "stream",
     "text": [
      "Level of Ease to reject cookies: (0.46625240412015634, 0.6769990551482545, 'fail to reject')\n"
     ]
    }
   ],
   "source": [
    "browsers = new_df[\"Question 3\"].value_counts()\n",
    "mu_comp = new_df.loc[new_df[\"Question 3\"] == \"Brave\"][\"Question 13\"].mean()\n",
    "std_comp = new_df.loc[new_df[\"Question 3\"] == \"Brave\"][\"Question 13\"].std()\n",
    "mu_non_comp = new_df.loc[new_df[\"Question 3\"] == \"Safari\"][\"Question 13\"].mean()\n",
    "std_non_comp = new_df.loc[new_df[\"Question 3\"] == \"Safari\"][\"Question 13\"].std()\n",
    "print(\"Level of Ease to reject cookies:\", two_sample_t_test(mu_comp, mu_non_comp, std_comp, std_non_comp, browsers[\"Brave\"], browsers[\"Safari\"]))"
   ]
  },
  {
   "cell_type": "code",
   "execution_count": 13,
   "metadata": {},
   "outputs": [
    {
     "name": "stdout",
     "output_type": "stream",
     "text": [
      "Level of Ease to reject cookies: (1.7469367235686857, 0.19120787377273207, 'fail to reject')\n"
     ]
    }
   ],
   "source": [
    "browsers = new_df[\"Question 3\"].value_counts()\n",
    "mu_comp = new_df.loc[new_df[\"Question 3\"] == \"Brave\"][\"Question 13\"].mean()\n",
    "std_comp = new_df.loc[new_df[\"Question 3\"] == \"Brave\"][\"Question 13\"].std()\n",
    "mu_non_comp = new_df.loc[new_df[\"Question 3\"] == \"Chrome\"][\"Question 13\"].mean()\n",
    "std_non_comp = new_df.loc[new_df[\"Question 3\"] == \"Chrome\"][\"Question 13\"].std()\n",
    "print(\"Level of Ease to reject cookies:\", two_sample_t_test(mu_comp, mu_non_comp, std_comp, std_non_comp, browsers[\"Brave\"], browsers[\"Chrome\"]))"
   ]
  },
  {
   "cell_type": "code",
   "execution_count": null,
   "metadata": {},
   "outputs": [],
   "source": []
  }
 ],
 "metadata": {
  "kernelspec": {
   "display_name": "base",
   "language": "python",
   "name": "python3"
  },
  "language_info": {
   "codemirror_mode": {
    "name": "ipython",
    "version": 3
   },
   "file_extension": ".py",
   "mimetype": "text/x-python",
   "name": "python",
   "nbconvert_exporter": "python",
   "pygments_lexer": "ipython3",
   "version": "3.9.13"
  },
  "orig_nbformat": 4
 },
 "nbformat": 4,
 "nbformat_minor": 2
}
